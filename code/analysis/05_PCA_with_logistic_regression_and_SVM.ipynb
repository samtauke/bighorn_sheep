{
 "cells": [
  {
   "cell_type": "code",
   "execution_count": 1,
   "id": "mexican-duncan",
   "metadata": {},
   "outputs": [],
   "source": [
    "#import packages\n",
    "import pandas as pd\n",
    "import numpy as np\n",
    "from matplotlib import pyplot\n",
    "import matplotlib.pyplot as plt\n",
    "from sklearn.ensemble import RandomForestClassifier\n",
    "from sklearn.model_selection import train_test_split\n",
    "from sklearn.metrics import confusion_matrix\n",
    "from sklearn.metrics import plot_confusion_matrix\n",
    "from sklearn.preprocessing import OneHotEncoder\n",
    "from sklearn import svm\n",
    "from sklearn import preprocessing\n",
    "from sklearn.metrics import classification_report\n",
    "from sklearn.model_selection import GridSearchCV\n",
    "from sklearn.preprocessing import scale \n",
    "from sklearn.linear_model import LogisticRegression\n",
    "from sklearn.model_selection import cross_val_score\n",
    "from sklearn.preprocessing import StandardScaler\n",
    "from sklearn.decomposition import PCA\n",
    "from mlxtend.feature_selection import SequentialFeatureSelector as sfs\n",
    "from sklearn.linear_model import LinearRegression\n",
    "from sklearn.metrics import accuracy_score as acc\n",
    "from sklearn.metrics import recall_score\n",
    "from sklearn.datasets import make_blobs\n",
    "from sklearn.model_selection import RepeatedStratifiedKFold\n",
    "from sklearn.model_selection import GridSearchCV\n",
    "from sklearn.linear_model import LogisticRegression"
   ]
  },
  {
   "cell_type": "code",
   "execution_count": 2,
   "id": "entitled-politics",
   "metadata": {},
   "outputs": [],
   "source": [
    "#read data \n",
    "batch_data = pd.read_csv(\"downloads/data/batch_meta_combine.csv\")\n",
    "\n",
    "X_train_scaled = pd.read_csv(\"downloads/data/X_train_scaled.csv\",header=None)\n",
    "X_val_scaled = pd.read_csv(\"downloads/data/X_val_scaled.csv\",header=None)\n",
    "X_test_scaled = pd.read_csv(\"downloads/data/X_test_scaled.csv\",header=None)\n",
    "\n",
    "y_train = pd.read_csv(\"downloads/data/y_train.csv\")\n",
    "y_train = list(y_train['group_class'])\n",
    "\n",
    "y_val = pd.read_csv(\"downloads/data/y_val.csv\")\n",
    "y_val = list(y_val['group_class'])\n",
    "\n",
    "y_test = pd.read_csv(\"downloads/data/y_test.csv\")\n",
    "y_test = list(y_test['group_class'])\n",
    "\n",
    "num_features = 3000\n",
    "\n",
    "# Subset X Data to top features\n",
    "X_train_scaled = X_train_scaled.iloc[:, : num_features]\n",
    "X_val_scaled = X_val_scaled.iloc[:, : num_features]\n",
    "X_test_scaled = X_test_scaled.iloc[:, : num_features]"
   ]
  },
  {
   "cell_type": "code",
   "execution_count": 3,
   "id": "rotary-dealing",
   "metadata": {},
   "outputs": [],
   "source": [
    "#PCA with 95% variation\n",
    "pca = PCA(.95)\n",
    "\n",
    "pca.fit(X_train_scaled)\n",
    "#PCA transformed data\n",
    "X_train = pca.transform(X_train_scaled)\n",
    "X_test = pca.transform(X_test_scaled)\n",
    "X_val = pca.transform(X_val_scaled)"
   ]
  },
  {
   "cell_type": "code",
   "execution_count": 4,
   "id": "transsexual-jimmy",
   "metadata": {},
   "outputs": [
    {
     "data": {
      "text/plain": [
       "<sklearn.metrics._plot.confusion_matrix.ConfusionMatrixDisplay at 0x132001160>"
      ]
     },
     "execution_count": 4,
     "metadata": {},
     "output_type": "execute_result"
    },
    {
     "data": {
      "image/png": "[encoded data removed]",
      "text/plain": [
       "<Figure size 432x288 with 2 Axes>"
      ]
     },
     "metadata": {
      "needs_background": "light"
     },
     "output_type": "display_data"
    }
   ],
   "source": [
    "#logistic regression using both default solver and penalty\n",
    "#fit model using training and apply on test data\n",
    "logisticRegr = LogisticRegression(solver = 'lbfgs',max_iter=5000, penalty='l2')\n",
    "logisticRegr.fit(X_train, y_train)\n",
    "logisticRegr.score(X_test, y_test)\n",
    "\n",
    "#confusion matrix \n",
    "plot_confusion_matrix(logisticRegr, X_test, y_test, cmap=plt.cm.Blues)"
   ]
  },
  {
   "cell_type": "code",
   "execution_count": 5,
   "id": "incorrect-advance",
   "metadata": {},
   "outputs": [
    {
     "data": {
      "text/plain": [
       "<sklearn.metrics._plot.confusion_matrix.ConfusionMatrixDisplay at 0x13284baf0>"
      ]
     },
     "execution_count": 5,
     "metadata": {},
     "output_type": "execute_result"
    },
    {
     "data": {
      "image/png": "[encoded data removed]",
      "text/plain": [
       "<Figure size 432x288 with 2 Axes>"
      ]
     },
     "metadata": {
      "needs_background": "light"
     },
     "output_type": "display_data"
    }
   ],
   "source": [
    "#optimal model based on validation data: saga and l2\n",
    "logisticRegr = LogisticRegression(solver = 'saga',max_iter=5000, penalty='l2')\n",
    "logisticRegr.fit(X_train, y_train)\n",
    "logisticRegr.score(X_val, y_val)\n",
    "\n",
    "#confusion matrix \n",
    "plot_confusion_matrix(logisticRegr, X_val, y_val, cmap=plt.cm.Blues)"
   ]
  },
  {
   "cell_type": "code",
   "execution_count": 6,
   "id": "eleven-prior",
   "metadata": {},
   "outputs": [
    {
     "data": {
      "text/plain": [
       "<sklearn.metrics._plot.confusion_matrix.ConfusionMatrixDisplay at 0x13284b8e0>"
      ]
     },
     "execution_count": 6,
     "metadata": {},
     "output_type": "execute_result"
    },
    {
     "data": {
      "image/png": "[encoded data removed]",
      "text/plain": [
       "<Figure size 432x288 with 2 Axes>"
      ]
     },
     "metadata": {
      "needs_background": "light"
     },
     "output_type": "display_data"
    }
   ],
   "source": [
    "#logistic regression using saga and penalty l2\n",
    "#fit model using training and apply on test data\n",
    "logisticRegr = LogisticRegression(solver = 'saga',max_iter=5000, penalty='l2')\n",
    "logisticRegr.fit(X_train, y_train)\n",
    "logisticRegr.score(X_test, y_test)\n",
    "\n",
    "#confusion matrix \n",
    "plot_confusion_matrix(logisticRegr, X_test, y_test, cmap=plt.cm.Blues)"
   ]
  },
  {
   "cell_type": "code",
   "execution_count": null,
   "id": "western-cooper",
   "metadata": {},
   "outputs": [],
   "source": []
  },
  {
   "cell_type": "code",
   "execution_count": null,
   "id": "artificial-liberia",
   "metadata": {},
   "outputs": [],
   "source": [
    "# Build RF classifier to use in feature selection\n",
    "\n",
    "clf = RandomForestClassifier(n_estimators=100, n_jobs=-1)\n",
    "# Build step forward feature selection; select 10 features\n",
    "sfs1 = sfs(clf,\n",
    "           k_features=10,\n",
    "           forward=True,\n",
    "           floating=False,\n",
    "           verbose=2)\n",
    "\n",
    "# Perform SFFS\n",
    "sfs1 = sfs1.fit(X_train, y_train)"
   ]
  },
  {
   "cell_type": "code",
   "execution_count": null,
   "id": "hired-disaster",
   "metadata": {},
   "outputs": [],
   "source": [
    "#selected features \n",
    "feat_cols = list(sfs1.k_feature_idx_)"
   ]
  },
  {
   "cell_type": "code",
   "execution_count": null,
   "id": "particular-lighter",
   "metadata": {},
   "outputs": [],
   "source": [
    "#logistic regression using only the selected features\n",
    "logre = LogisticRegression(solver = 'lbfgs',max_iter=5000, penalty = 'l2')\n",
    "logre.fit(X_train[:, feat_cols], y_train)\n",
    "\n",
    "#confusion matrix\n",
    "plot_confusion_matrix(logre, X_test[:, feat_cols], y_test, cmap=plt.cm.Blues)"
   ]
  },
  {
   "cell_type": "code",
   "execution_count": null,
   "id": "original-potential",
   "metadata": {},
   "outputs": [],
   "source": []
  },
  {
   "cell_type": "code",
   "execution_count": 7,
   "id": "removable-relief",
   "metadata": {},
   "outputs": [
    {
     "data": {
      "text/plain": [
       "<sklearn.metrics._plot.confusion_matrix.ConfusionMatrixDisplay at 0x1324dde20>"
      ]
     },
     "execution_count": 7,
     "metadata": {},
     "output_type": "execute_result"
    },
    {
     "data": {
      "image/png": "[encoded data removed]",
      "text/plain": [
       "<Figure size 432x288 with 2 Axes>"
      ]
     },
     "metadata": {
      "needs_background": "light"
     },
     "output_type": "display_data"
    }
   ],
   "source": [
    "#logistic regression using just first 10 PCA components\n",
    "pca = PCA(n_components=10)\n",
    "\n",
    "pca.fit(X_train_scaled)\n",
    "#PCA transformed data\n",
    "X_train = pca.transform(X_train_scaled)\n",
    "X_test = pca.transform(X_test_scaled)\n",
    "X_val = pca.transform(X_val_scaled)\n",
    "\n",
    "#logistic regression\n",
    "logisticRegr = LogisticRegression(solver = 'lbfgs',max_iter=5000, penalty='l2')\n",
    "logisticRegr.fit(X_train, y_train)\n",
    "logisticRegr.score(X_test, y_test)\n",
    "\n",
    "#confusion matrix \n",
    "plot_confusion_matrix(logisticRegr, X_test, y_test, cmap=plt.cm.Blues)"
   ]
  },
  {
   "cell_type": "code",
   "execution_count": 8,
   "id": "comfortable-wallace",
   "metadata": {},
   "outputs": [],
   "source": [
    "#re-defining 95% variance PCA for SVM\n",
    "#PCA with 95% variation\n",
    "pca = PCA(.95)\n",
    "\n",
    "pca.fit(X_train_scaled)\n",
    "#PCA transformed data\n",
    "X_train = pca.transform(X_train_scaled)\n",
    "X_test = pca.transform(X_test_scaled)\n",
    "X_val = pca.transform(X_val_scaled)"
   ]
  },
  {
   "cell_type": "code",
   "execution_count": 9,
   "id": "boxed-occasion",
   "metadata": {},
   "outputs": [],
   "source": [
    "#defining SVM classifiers with different parameters\n",
    "kernels = ['Polynomial', 'RBF', 'Sigmoid','Linear']\n",
    "#A function which returns the corresponding SVC model\n",
    "def getClassifier(ktype,gamma_val,c_val):\n",
    "    if ktype == 0:\n",
    "        # Polynomial kernal\n",
    "        return svm.SVC(kernel='poly', degree=8, gamma=gamma_val,C=c_val)\n",
    "    elif ktype == 1:\n",
    "        # Radial Basis Function kernal\n",
    "        return svm.SVC(kernel='rbf', gamma=gamma_val,C=c_val)\n",
    "    elif ktype == 2:\n",
    "        # Sigmoid kernal\n",
    "        return svm.SVC(kernel='sigmoid', gamma=gamma_val,C=c_val)\n",
    "    elif ktype == 3:\n",
    "        # Linear kernal\n",
    "        return svm.SVC(kernel='linear', gamma=gamma_val,C=c_val)"
   ]
  },
  {
   "cell_type": "code",
   "execution_count": 10,
   "id": "representative-committee",
   "metadata": {},
   "outputs": [],
   "source": [
    "# Try multiple different Kernels, c, and gamma\n",
    "svm_scores = dict()\n",
    "\n",
    "for i in range(4):\n",
    "    for c_val in [0.1,1, 10, 100]:\n",
    "        for gamma_val in [1,0.1,0.01,0.001]:\n",
    "            run_name = kernels[i]+\" \"+str(c_val) + \" \" + str(gamma_val)\n",
    "            clf = getClassifier(i,gamma_val,c_val) \n",
    "            clf.fit(X_train, y_train)# Make prediction\n",
    "            y_pred = clf.predict(X_val)# Evaluate our model\n",
    "\n",
    "            class_dict = classification_report(y_val,y_pred, output_dict=True,zero_division=1)\n",
    "            svm_scores[run_name] = class_dict\n",
    "    \n",
    "\n",
    "chron_recall_list = list()\n",
    "chron_prec_list = list()\n",
    "\n",
    "for key in svm_scores:\n",
    "    chron_recall_list.append((svm_scores[key]['chronic']['recall'],key))\n",
    "    chron_prec_list.append((svm_scores[key]['chronic']['precision'],key))\n",
    "\n",
    "chron_recall_list.sort(reverse=True)\n",
    "chron_prec_list.sort(reverse=True)"
   ]
  },
  {
   "cell_type": "code",
   "execution_count": 11,
   "id": "terminal-rocket",
   "metadata": {},
   "outputs": [
    {
     "data": {
      "text/plain": [
       "[(0.6923076923076923, 'Sigmoid 10 0.001'),\n",
       " (0.6923076923076923, 'Sigmoid 1 0.001'),\n",
       " (0.5384615384615384, 'Sigmoid 100 0.001'),\n",
       " (0.5384615384615384, 'Polynomial 100 0.001'),\n",
       " (0.46153846153846156, 'RBF 1 0.001'),\n",
       " (0.46153846153846156, 'Polynomial 100 1'),\n",
       " (0.46153846153846156, 'Polynomial 100 0.1'),\n",
       " (0.46153846153846156, 'Polynomial 100 0.01'),\n",
       " (0.46153846153846156, 'Polynomial 10 1'),\n",
       " (0.46153846153846156, 'Polynomial 10 0.1'),\n",
       " (0.46153846153846156, 'Polynomial 10 0.01'),\n",
       " (0.46153846153846156, 'Polynomial 10 0.001'),\n",
       " (0.46153846153846156, 'Polynomial 1 1'),\n",
       " (0.46153846153846156, 'Polynomial 1 0.1'),\n",
       " (0.46153846153846156, 'Polynomial 1 0.01'),\n",
       " (0.46153846153846156, 'Polynomial 0.1 1'),\n",
       " (0.46153846153846156, 'Polynomial 0.1 0.1'),\n",
       " (0.46153846153846156, 'Polynomial 0.1 0.01'),\n",
       " (0.38461538461538464, 'Sigmoid 100 0.01'),\n",
       " (0.38461538461538464, 'Sigmoid 10 0.01')]"
      ]
     },
     "execution_count": 11,
     "metadata": {},
     "output_type": "execute_result"
    }
   ],
   "source": [
    "chron_recall_list[:20]"
   ]
  },
  {
   "cell_type": "code",
   "execution_count": 12,
   "id": "divided-stopping",
   "metadata": {},
   "outputs": [
    {
     "data": {
      "text/plain": [
       "<sklearn.metrics._plot.confusion_matrix.ConfusionMatrixDisplay at 0x132519b50>"
      ]
     },
     "execution_count": 12,
     "metadata": {},
     "output_type": "execute_result"
    },
    {
     "data": {
      "image/png": "[encoded data removed]",
      "text/plain": [
       "<Figure size 432x288 with 2 Axes>"
      ]
     },
     "metadata": {
      "needs_background": "light"
     },
     "output_type": "display_data"
    }
   ],
   "source": [
    "#optimal SVM classifier\n",
    "#fit the training data and run on validation data\n",
    "clf = getClassifier(2 ,c_val = 1,gamma_val = 0.001)\n",
    "\n",
    "clf.fit(X_train, y_train)\n",
    "\n",
    "plot_confusion_matrix(clf, X_val, y_val,\n",
    "                                 display_labels=['chronic','non_chronic'],\n",
    "                                 cmap=plt.cm.Blues)\n"
   ]
  },
  {
   "cell_type": "code",
   "execution_count": 13,
   "id": "terminal-family",
   "metadata": {},
   "outputs": [
    {
     "data": {
      "text/plain": [
       "<sklearn.metrics._plot.confusion_matrix.ConfusionMatrixDisplay at 0x133330b50>"
      ]
     },
     "execution_count": 13,
     "metadata": {},
     "output_type": "execute_result"
    },
    {
     "data": {
      "image/png": "[encoded data removed]",
      "text/plain": [
       "<Figure size 432x288 with 2 Axes>"
      ]
     },
     "metadata": {
      "needs_background": "light"
     },
     "output_type": "display_data"
    }
   ],
   "source": [
    "#using SVM tuned parameters on test data\n",
    "clf = svm.SVC(kernel='sigmoid', gamma=0.001, C=1)\n",
    "clf.fit(X_train, y_train)\n",
    "\n",
    "plot_confusion_matrix(clf, X_test, y_test,\n",
    "                                 display_labels=['chronic','non_chronic'],\n",
    "                                 cmap=plt.cm.Blues)"
   ]
  },
  {
   "cell_type": "markdown",
   "id": "previous-guarantee",
   "metadata": {},
   "source": [
    "### PCA GRAPHS"
   ]
  },
  {
   "cell_type": "code",
   "execution_count": 14,
   "id": "adjacent-queen",
   "metadata": {},
   "outputs": [
    {
     "data": {
      "text/plain": [
       "array([3.10536111e+05, 7.55343879e+04, 3.91656811e+04, ...,\n",
       "       3.82023203e-01, 1.00000000e+00, 2.14582818e-01])"
      ]
     },
     "execution_count": 14,
     "metadata": {},
     "output_type": "execute_result"
    }
   ],
   "source": [
    "#read data\n",
    "batch_data = pd.read_csv(\"downloads/data/batch_meta_combine.csv\")\n",
    "\n",
    "# Rename herd to keep it in regex\n",
    "batch_data = batch_data.rename(columns={'herd': 'herdx'})\n",
    "\n",
    "#Split into X and Y\n",
    "X = batch_data.filter(regex=(\"x.*\"))\n",
    "y = batch_data['group_class']\n",
    "\n",
    "#onehot encode herd\n",
    "one_hot = pd.get_dummies(X['herdx'])\n",
    "\n",
    "# Dropherd as it is now encoded\n",
    "X = X.drop('herdx',axis = 1)\n",
    "# Join the encoded df\n",
    "X = X.join(one_hot)\n",
    "\n",
    "# revalue chronic = 1; not_chronic = 0\n",
    "y = y.replace(\"chronic\", \"1\")\n",
    "y = y.replace(\"not_chronic\", \"0\")\n",
    "\n",
    "# Split into Training and Test Datasets\n",
    "X_train, X_test, y_train, y_test = train_test_split(X, y, test_size=0.30, random_state=42)\n",
    "\n",
    "# Standardize X data\n",
    "scaler = preprocessing.StandardScaler().fit(X_train)\n",
    "\n",
    "scaler.mean_\n",
    "scaler.scale_\n",
    "\n",
    "#X_train_scaled = scaler.transform(X_train)\n",
    "#X_test_scaled = scaler.transform(X_test)\n"
   ]
  },
  {
   "cell_type": "code",
   "execution_count": 15,
   "id": "existing-consequence",
   "metadata": {},
   "outputs": [
    {
     "data": {
      "text/html": [
       "<div>\n",
       "<style scoped>\n",
       "    .dataframe tbody tr th:only-of-type {\n",
       "        vertical-align: middle;\n",
       "    }\n",
       "\n",
       "    .dataframe tbody tr th {\n",
       "        vertical-align: top;\n",
       "    }\n",
       "\n",
       "    .dataframe thead th {\n",
       "        text-align: right;\n",
       "    }\n",
       "</style>\n",
       "<table border=\"1\" class=\"dataframe\">\n",
       "  <thead>\n",
       "    <tr style=\"text-align: right;\">\n",
       "      <th></th>\n",
       "      <th>principal component 1</th>\n",
       "      <th>principal component 2</th>\n",
       "      <th>group_class</th>\n",
       "      <th>herdx</th>\n",
       "    </tr>\n",
       "  </thead>\n",
       "  <tbody>\n",
       "    <tr>\n",
       "      <th>0</th>\n",
       "      <td>-13.621626</td>\n",
       "      <td>10.493824</td>\n",
       "      <td>not_chronic</td>\n",
       "      <td>Badlands</td>\n",
       "    </tr>\n",
       "    <tr>\n",
       "      <th>1</th>\n",
       "      <td>-17.959801</td>\n",
       "      <td>7.340189</td>\n",
       "      <td>not_chronic</td>\n",
       "      <td>Badlands</td>\n",
       "    </tr>\n",
       "    <tr>\n",
       "      <th>2</th>\n",
       "      <td>-11.583655</td>\n",
       "      <td>9.092847</td>\n",
       "      <td>not_chronic</td>\n",
       "      <td>Badlands</td>\n",
       "    </tr>\n",
       "    <tr>\n",
       "      <th>3</th>\n",
       "      <td>-14.457887</td>\n",
       "      <td>10.184109</td>\n",
       "      <td>not_chronic</td>\n",
       "      <td>Badlands</td>\n",
       "    </tr>\n",
       "    <tr>\n",
       "      <th>4</th>\n",
       "      <td>-14.373820</td>\n",
       "      <td>9.984883</td>\n",
       "      <td>not_chronic</td>\n",
       "      <td>Badlands</td>\n",
       "    </tr>\n",
       "    <tr>\n",
       "      <th>...</th>\n",
       "      <td>...</td>\n",
       "      <td>...</td>\n",
       "      <td>...</td>\n",
       "      <td>...</td>\n",
       "    </tr>\n",
       "    <tr>\n",
       "      <th>173</th>\n",
       "      <td>8.514334</td>\n",
       "      <td>0.972043</td>\n",
       "      <td>not_chronic</td>\n",
       "      <td>Lostine</td>\n",
       "    </tr>\n",
       "    <tr>\n",
       "      <th>174</th>\n",
       "      <td>-7.658841</td>\n",
       "      <td>-13.290989</td>\n",
       "      <td>not_chronic</td>\n",
       "      <td>Lostine</td>\n",
       "    </tr>\n",
       "    <tr>\n",
       "      <th>175</th>\n",
       "      <td>2.801700</td>\n",
       "      <td>-3.997221</td>\n",
       "      <td>not_chronic</td>\n",
       "      <td>Lostine</td>\n",
       "    </tr>\n",
       "    <tr>\n",
       "      <th>176</th>\n",
       "      <td>12.191561</td>\n",
       "      <td>10.477868</td>\n",
       "      <td>not_chronic</td>\n",
       "      <td>Lostine</td>\n",
       "    </tr>\n",
       "    <tr>\n",
       "      <th>177</th>\n",
       "      <td>-13.371037</td>\n",
       "      <td>-8.373308</td>\n",
       "      <td>not_chronic</td>\n",
       "      <td>Lostine</td>\n",
       "    </tr>\n",
       "  </tbody>\n",
       "</table>\n",
       "<p>178 rows × 4 columns</p>\n",
       "</div>"
      ],
      "text/plain": [
       "     principal component 1  principal component 2  group_class     herdx\n",
       "0               -13.621626              10.493824  not_chronic  Badlands\n",
       "1               -17.959801               7.340189  not_chronic  Badlands\n",
       "2               -11.583655               9.092847  not_chronic  Badlands\n",
       "3               -14.457887              10.184109  not_chronic  Badlands\n",
       "4               -14.373820               9.984883  not_chronic  Badlands\n",
       "..                     ...                    ...          ...       ...\n",
       "173               8.514334               0.972043  not_chronic   Lostine\n",
       "174              -7.658841             -13.290989  not_chronic   Lostine\n",
       "175               2.801700              -3.997221  not_chronic   Lostine\n",
       "176              12.191561              10.477868  not_chronic   Lostine\n",
       "177             -13.371037              -8.373308  not_chronic   Lostine\n",
       "\n",
       "[178 rows x 4 columns]"
      ]
     },
     "execution_count": 15,
     "metadata": {},
     "output_type": "execute_result"
    }
   ],
   "source": [
    "# Standardizing the features\n",
    "X = StandardScaler().fit_transform(X)\n",
    "\n",
    "pca = PCA(n_components=2)\n",
    "principalComponents = pca.fit_transform(X)\n",
    "principalDf = pd.DataFrame(data = principalComponents\n",
    "             , columns = ['principal component 1', 'principal component 2'])\n",
    "\n",
    "#Final data frame with PC1, PC2, group class, and herds\n",
    "finalDf = pd.concat([principalDf, batch_data[['group_class']], batch_data[['herdx']]], axis = 1)\n",
    "finalDf"
   ]
  },
  {
   "cell_type": "code",
   "execution_count": 16,
   "id": "opening-given",
   "metadata": {},
   "outputs": [
    {
     "data": {
      "image/png": "[encoded data removed]",
      "text/plain": [
       "<Figure size 576x576 with 1 Axes>"
      ]
     },
     "metadata": {
      "needs_background": "light"
     },
     "output_type": "display_data"
    }
   ],
   "source": [
    "#chronic vs non-chronic PCA figure\n",
    "fig = plt.figure(figsize = (8,8))\n",
    "ax = fig.add_subplot(1,1,1) \n",
    "ax.set_xlabel('Principal Component 1', fontsize = 15)\n",
    "ax.set_ylabel('Principal Component 2', fontsize = 15)\n",
    "ax.set_title('2 component PCA', fontsize = 20)\n",
    "targets = ['chronic', 'not_chronic']\n",
    "colors = ['r', 'g']\n",
    "for target, color in zip(targets,colors):\n",
    "    indicesToKeep = finalDf['group_class'] == target\n",
    "    ax.scatter(finalDf.loc[indicesToKeep, 'principal component 1']\n",
    "               , finalDf.loc[indicesToKeep, 'principal component 2']\n",
    "               , c = color\n",
    "               , s = 50)\n",
    "ax.legend(targets)\n",
    "ax.grid()"
   ]
  },
  {
   "cell_type": "code",
   "execution_count": 18,
   "id": "timely-drunk",
   "metadata": {},
   "outputs": [
    {
     "data": {
      "image/png": "[encoded data removed]",
      "text/plain": [
       "<Figure size 576x576 with 1 Axes>"
      ]
     },
     "metadata": {
      "needs_background": "light"
     },
     "output_type": "display_data"
    }
   ],
   "source": [
    "#PCA graph color-coded by herds\n",
    "fig = plt.figure(figsize = (8,8))\n",
    "ax = fig.add_subplot(1,1,1) \n",
    "ax.set_xlabel('Principal Component 1', fontsize = 15)\n",
    "ax.set_ylabel('Principal Component 2', fontsize = 15)\n",
    "ax.set_title('2 component PCA', fontsize = 20)\n",
    "targets = ['Badlands', 'Asotin', 'Lostine', 'BlackButte', 'Lookout Mtn',\n",
    "       'Tucannon', 'Snowstorms', 'Redbird', 'Clemans',\n",
    "       'Custer State Park', 'WSU - Captive']\n",
    "\n",
    "#change color to blue(b), red(r) based on the desired herd group\n",
    "colors = ['b', 'r', 'b', 'b', 'b', 'b', 'b', 'b', 'b', 'b', 'b']\n",
    "for target, color in zip(targets,colors):\n",
    "    indicesToKeep = finalDf['herdx'] == target\n",
    "    ax.scatter(finalDf.loc[indicesToKeep, 'principal component 1']\n",
    "               , finalDf.loc[indicesToKeep, 'principal component 2']\n",
    "               , c = color\n",
    "               , s = 50)\n",
    "ax.legend(targets)\n",
    "ax.grid()"
   ]
  },
  {
   "cell_type": "code",
   "execution_count": null,
   "id": "naval-updating",
   "metadata": {},
   "outputs": [],
   "source": []
  }
 ],
 "metadata": {
  "kernelspec": {
   "display_name": "Python 3",
   "language": "python",
   "name": "python3"
  },
  "language_info": {
   "codemirror_mode": {
    "name": "ipython",
    "version": 3
   },
   "file_extension": ".py",
   "mimetype": "text/x-python",
   "name": "python",
   "nbconvert_exporter": "python",
   "pygments_lexer": "ipython3",
   "version": "3.9.0"
  }
 },
 "nbformat": 4,
 "nbformat_minor": 5
}
