{
 "cells": [
  {
   "cell_type": "code",
   "execution_count": 1,
   "metadata": {},
   "outputs": [],
   "source": [
    "# Import Packages\n",
    "import pandas as pd\n",
    "import numpy as np\n",
    "from matplotlib import pyplot\n",
    "%matplotlib inline\n",
    "import matplotlib.pyplot as plt\n",
    "from sklearn.ensemble import RandomForestClassifier\n",
    "from sklearn.model_selection import train_test_split\n",
    "from sklearn.metrics import confusion_matrix\n",
    "from sklearn.metrics import plot_confusion_matrix\n",
    "from sklearn.preprocessing import OneHotEncoder\n",
    "from sklearn import svm\n",
    "from sklearn import preprocessing\n",
    "from sklearn.metrics import classification_report\n",
    "from sklearn.model_selection import GridSearchCV\n",
    "import datascience\n",
    "import imblearn\n",
    "\n"
   ]
  },
  {
   "cell_type": "code",
   "execution_count": 2,
   "metadata": {},
   "outputs": [],
   "source": [
    "batch_data = pd.read_csv(\"../../data/datasets/batch_meta_combine.csv\")\n",
    "\n",
    "X_train_scaled = pd.read_csv(\"../../data/datasets/X_train_scaled.csv\",header=None)\n",
    "X_train_scaled_oversample = pd.read_csv(\"../../data/datasets/X_train_scaled_oversample.csv\",header=None)\n",
    "X_val_scaled = pd.read_csv(\"../../data/datasets/X_val_scaled.csv\",header=None)\n",
    "X_test_scaled = pd.read_csv(\"../../data/datasets/X_test_scaled.csv\",header=None)\n",
    "\n",
    "X_test_herds = pd.read_csv(\"../../data/datasets/X_test_herds.csv\")\n",
    "\n",
    "    \n",
    "\n",
    "\n",
    "y_train = pd.read_csv(\"../../data/datasets/y_train.csv\")\n",
    "y_train = list(y_train['group_class'])\n",
    "\n",
    "y_train_oversample = pd.read_csv(\"../../data/datasets/y_train_oversample.csv\")\n",
    "y_train_oversample = list(y_train_oversample['group_class'])\n",
    "\n",
    "\n",
    "y_val = pd.read_csv(\"../../data/datasets/y_val.csv\")\n",
    "y_val = list(y_val['group_class'])\n",
    "\n",
    "y_test = pd.read_csv(\"../../data/datasets/y_test.csv\")\n",
    "y_test = list(y_test['group_class'])\n",
    "\n",
    "\n",
    "num_features = 25\n",
    "\n",
    "# Subset X Data to top features\n",
    "X_train_scaled = X_train_scaled.iloc[:, : num_features]\n",
    "X_train_scaled_oversample = X_train_scaled_oversample.iloc[:, : num_features]\n",
    "X_val_scaled = X_val_scaled.iloc[:, : num_features]\n",
    "X_test_scaled = X_test_scaled.iloc[:, : num_features]\n"
   ]
  },
  {
   "cell_type": "code",
   "execution_count": 3,
   "metadata": {},
   "outputs": [
    {
     "data": {
      "text/plain": [
       "0.7777777777777778"
      ]
     },
     "execution_count": 3,
     "metadata": {},
     "output_type": "execute_result"
    }
   ],
   "source": [
    "clf = svm.SVC(kernel='rbf')\n",
    "clf.fit(X_train_scaled, y_train)\n",
    "\n",
    "\n",
    "y_test_predict = clf.predict(X_test_scaled)\n",
    "\n",
    "clf.score(X_test_scaled,y_test)\n",
    "\n",
    "#class_dict = classification_report(y_test,y_test_predict, output_dict=True)\n",
    "\n"
   ]
  },
  {
   "cell_type": "code",
   "execution_count": 4,
   "metadata": {},
   "outputs": [
    {
     "data": {
      "text/plain": [
       "<sklearn.metrics._plot.confusion_matrix.ConfusionMatrixDisplay at 0x1ec9b5131f0>"
      ]
     },
     "execution_count": 4,
     "metadata": {},
     "output_type": "execute_result"
    }
   ],
   "source": [
    " plot_confusion_matrix(clf, X_test_scaled, y_test,\n",
    "                                 display_labels=['chronic','non_chronic'],\n",
    "                                 cmap=plt.cm.Blues)"
   ]
  },
  {
   "cell_type": "markdown",
   "metadata": {},
   "source": [
    "## Optimize Parameters"
   ]
  },
  {
   "cell_type": "code",
   "execution_count": 5,
   "metadata": {},
   "outputs": [],
   "source": [
    "kernels = ['Polynomial', 'RBF', 'Sigmoid','Linear']\n",
    "#A function which returns the corresponding SVC model\n",
    "def getClassifier(ktype,gamma_val,c_val):\n",
    "    if ktype == 0:\n",
    "        # Polynomial kernal\n",
    "        return svm.SVC(kernel='poly', degree=8, gamma=gamma_val,C=c_val)\n",
    "    elif ktype == 1:\n",
    "        # Radial Basis Function kernal\n",
    "        return svm.SVC(kernel='rbf', gamma=gamma_val,C=c_val)\n",
    "    elif ktype == 2:\n",
    "        # Sigmoid kernal\n",
    "        return svm.SVC(kernel='sigmoid', gamma=gamma_val,C=c_val)\n",
    "    elif ktype == 3:\n",
    "        # Linear kernal\n",
    "        return svm.SVC(kernel='linear', gamma=gamma_val,C=c_val)"
   ]
  },
  {
   "cell_type": "code",
   "execution_count": 6,
   "metadata": {},
   "outputs": [],
   "source": [
    "# Try multiple different Kernels, c, and gamma\n",
    "svm_scores = dict()\n",
    "\n",
    "\n",
    "for i in range(4):\n",
    "    for c_val in [0.1,1, 10, 100]:\n",
    "        for gamma_val in [1,0.1,0.01,0.001]:\n",
    "            run_name = kernels[i]+\" \"+str(c_val) + \" \" + str(gamma_val)\n",
    "            clf = getClassifier(i,gamma_val,c_val) \n",
    "            clf.fit(X_train_scaled, y_train)# Make prediction\n",
    "            y_pred = clf.predict(X_val_scaled)# Evaluate our model\n",
    "\n",
    "            class_dict = classification_report(y_val,y_pred, output_dict=True,zero_division=1)\n",
    "            svm_scores[run_name] = class_dict\n",
    "    \n",
    "\n",
    "chron_recall_list = list()\n",
    "chron_prec_list = list()\n",
    "\n",
    "for key in svm_scores:\n",
    "    chron_recall_list.append((svm_scores[key]['chronic']['recall'],key))\n",
    "    chron_prec_list.append((svm_scores[key]['chronic']['precision'],key))\n",
    "\n",
    "chron_recall_list.sort(reverse=True)\n",
    "chron_prec_list.sort(reverse=True)\n"
   ]
  },
  {
   "cell_type": "code",
   "execution_count": 8,
   "metadata": {},
   "outputs": [
    {
     "data": {
      "text/plain": [
       "[(0.8461538461538461, 'Linear 100 1'),\n",
       " (0.8461538461538461, 'Linear 100 0.1'),\n",
       " (0.8461538461538461, 'Linear 100 0.01'),\n",
       " (0.8461538461538461, 'Linear 100 0.001'),\n",
       " (0.7692307692307693, 'Linear 10 1'),\n",
       " (0.7692307692307693, 'Linear 10 0.1'),\n",
       " (0.7692307692307693, 'Linear 10 0.01'),\n",
       " (0.7692307692307693, 'Linear 10 0.001'),\n",
       " (0.7692307692307693, 'Linear 1 1'),\n",
       " (0.7692307692307693, 'Linear 1 0.1'),\n",
       " (0.7692307692307693, 'Linear 1 0.01'),\n",
       " (0.7692307692307693, 'Linear 1 0.001'),\n",
       " (0.6923076923076923, 'RBF 100 0.01'),\n",
       " (0.6923076923076923, 'RBF 100 0.001'),\n",
       " (0.6153846153846154, 'RBF 10 0.01'),\n",
       " (0.5384615384615384, 'Sigmoid 100 0.1'),\n",
       " (0.5384615384615384, 'Sigmoid 100 0.001'),\n",
       " (0.5384615384615384, 'Sigmoid 10 0.01'),\n",
       " (0.5384615384615384, 'Linear 0.1 1'),\n",
       " (0.5384615384615384, 'Linear 0.1 0.1'),\n",
       " (0.5384615384615384, 'Linear 0.1 0.01'),\n",
       " (0.5384615384615384, 'Linear 0.1 0.001'),\n",
       " (0.46153846153846156, 'Sigmoid 10 0.1'),\n",
       " (0.46153846153846156, 'Sigmoid 1 0.1'),\n",
       " (0.46153846153846156, 'RBF 10 0.1')]"
      ]
     },
     "execution_count": 8,
     "metadata": {},
     "output_type": "execute_result"
    }
   ],
   "source": [
    "chron_recall_list[:25]"
   ]
  },
  {
   "cell_type": "code",
   "execution_count": 10,
   "metadata": {},
   "outputs": [
    {
     "data": {
      "text/plain": [
       "[(1.0, 'Sigmoid 10 0.001'),\n",
       " (1.0, 'Sigmoid 1 0.01'),\n",
       " (1.0, 'Sigmoid 1 0.001'),\n",
       " (1.0, 'Sigmoid 0.1 1'),\n",
       " (1.0, 'Sigmoid 0.1 0.1'),\n",
       " (1.0, 'Sigmoid 0.1 0.01'),\n",
       " (1.0, 'Sigmoid 0.1 0.001'),\n",
       " (1.0, 'RBF 1 1'),\n",
       " (1.0, 'RBF 1 0.01'),\n",
       " (1.0, 'RBF 1 0.001'),\n",
       " (1.0, 'RBF 0.1 1'),\n",
       " (1.0, 'RBF 0.1 0.1'),\n",
       " (1.0, 'RBF 0.1 0.01'),\n",
       " (1.0, 'RBF 0.1 0.001'),\n",
       " (1.0, 'Polynomial 100 0.01'),\n",
       " (1.0, 'Polynomial 100 0.001'),\n",
       " (1.0, 'Polynomial 10 0.01'),\n",
       " (1.0, 'Polynomial 10 0.001'),\n",
       " (1.0, 'Polynomial 1 0.01'),\n",
       " (1.0, 'Polynomial 1 0.001'),\n",
       " (1.0, 'Polynomial 0.1 0.01'),\n",
       " (1.0, 'Polynomial 0.1 0.001'),\n",
       " (0.8571428571428571, 'RBF 10 0.1'),\n",
       " (0.8571428571428571, 'RBF 1 0.1'),\n",
       " (0.8333333333333334, 'Sigmoid 100 0.01'),\n",
       " (0.8333333333333334, 'RBF 10 0.001'),\n",
       " (0.8333333333333334, 'Linear 1 1'),\n",
       " (0.8333333333333334, 'Linear 1 0.1'),\n",
       " (0.8333333333333334, 'Linear 1 0.01'),\n",
       " (0.8333333333333334, 'Linear 1 0.001'),\n",
       " (0.8181818181818182, 'RBF 100 0.001'),\n",
       " (0.7777777777777778, 'Sigmoid 100 0.001'),\n",
       " (0.7777777777777778, 'Sigmoid 10 0.01'),\n",
       " (0.7777777777777778, 'Linear 0.1 1'),\n",
       " (0.7777777777777778, 'Linear 0.1 0.1'),\n",
       " (0.7777777777777778, 'Linear 0.1 0.01'),\n",
       " (0.7777777777777778, 'Linear 0.1 0.001'),\n",
       " (0.7692307692307693, 'Linear 10 1'),\n",
       " (0.7692307692307693, 'Linear 10 0.1'),\n",
       " (0.7692307692307693, 'Linear 10 0.01'),\n",
       " (0.7692307692307693, 'Linear 10 0.001'),\n",
       " (0.75, 'RBF 100 0.01'),\n",
       " (0.7333333333333333, 'Linear 100 1'),\n",
       " (0.7333333333333333, 'Linear 100 0.1'),\n",
       " (0.7333333333333333, 'Linear 100 0.01'),\n",
       " (0.7333333333333333, 'Linear 100 0.001'),\n",
       " (0.7272727272727273, 'RBF 10 0.01'),\n",
       " (0.7, 'Sigmoid 100 0.1'),\n",
       " (0.6666666666666666, 'Sigmoid 1 0.1'),\n",
       " (0.6666666666666666, 'RBF 100 1'),\n",
       " (0.6666666666666666, 'RBF 100 0.1'),\n",
       " (0.6666666666666666, 'RBF 10 1'),\n",
       " (0.6666666666666666, 'Polynomial 0.1 0.1'),\n",
       " (0.6, 'Sigmoid 10 0.1'),\n",
       " (0.5, 'Polynomial 1 0.1'),\n",
       " (0.4444444444444444, 'Polynomial 100 1'),\n",
       " (0.4444444444444444, 'Polynomial 100 0.1'),\n",
       " (0.4444444444444444, 'Polynomial 10 1'),\n",
       " (0.4444444444444444, 'Polynomial 10 0.1'),\n",
       " (0.4444444444444444, 'Polynomial 1 1'),\n",
       " (0.4444444444444444, 'Polynomial 0.1 1'),\n",
       " (0.4, 'Sigmoid 100 1'),\n",
       " (0.4, 'Sigmoid 10 1'),\n",
       " (0.4, 'Sigmoid 1 1')]"
      ]
     },
     "execution_count": 10,
     "metadata": {},
     "output_type": "execute_result"
    }
   ],
   "source": [
    "chron_prec_list\n"
   ]
  },
  {
   "cell_type": "code",
   "execution_count": 9,
   "metadata": {},
   "outputs": [
    {
     "name": "stdout",
     "output_type": "stream",
     "text": [
      "{'chronic': {'precision': 0.5, 'recall': 0.5, 'f1-score': 0.5, 'support': 8}, 'not_chronic': {'precision': 0.8571428571428571, 'recall': 0.8571428571428571, 'f1-score': 0.8571428571428571, 'support': 28}, 'accuracy': 0.7777777777777778, 'macro avg': {'precision': 0.6785714285714286, 'recall': 0.6785714285714286, 'f1-score': 0.6785714285714286, 'support': 36}, 'weighted avg': {'precision': 0.7777777777777778, 'recall': 0.7777777777777778, 'f1-score': 0.7777777777777778, 'support': 36}}\n"
     ]
    }
   ],
   "source": [
    "clf = getClassifier(3,c_val = 1,gamma_val = 1)\n",
    "#clf = getClassifier(0,c_val = 1,gamma_val = .1)\n",
    "\n",
    "clf.fit(X_train_scaled, y_train)\n",
    "\n",
    "\n",
    "y_val_predict = clf.predict(X_val_scaled)\n",
    "y_test_predict = clf.predict(X_test_scaled)\n",
    "\n",
    "\n",
    "#clf.score(X_val_scaled,y_val)\n",
    "\n",
    "# print(classification_report(y_val,y_val_predict, output_dict=True))\n",
    "print(classification_report(y_test,y_test_predict, output_dict=True))\n",
    "\n",
    "#plot_confusion_matrix(clf, X_val_scaled, y_val,\n",
    " #                                display_labels=['chronic','non_chronic'],\n",
    "  #                               cmap=plt.cm.Blues)\n",
    "# plot_confusion_matrix(clf, X_test_scaled, y_test,\n",
    "#                                  display_labels=['chronic','non_chronic'],\n",
    "#                                  cmap=plt.cm.Blues)\n",
    "\n",
    "\n",
    "# Try Optimimal Parameters on Test Data\n",
    "\n",
    "\n"
   ]
  },
  {
   "cell_type": "markdown",
   "metadata": {},
   "source": [
    "### Leave One Herd Out Predictions"
   ]
  },
  {
   "cell_type": "code",
   "execution_count": 18,
   "metadata": {},
   "outputs": [],
   "source": [
    "batch_data2 = pd.read_csv(\"../../data/datasets/batch_meta_combine.csv\")\n",
    "rf_features = pd.read_csv(\"../../data/datasets/rf_features.csv\")\n",
    "\n",
    "\n",
    "herds = batch_data2.herd.unique()\n",
    "\n",
    "# Loop to Train SVM, leaving one herd out each time\n",
    "\n",
    "herd_scores = dict()\n",
    "\n",
    "for herd in herds:\n",
    "      # Split into Training and Test Datasets\n",
    "    feat_to_keep = rf_features['feature'].head(25)\n",
    "    \n",
    "    \n",
    "    \n",
    "    train = batch_data2[batch_data2['herd']!=herd]\n",
    "    test = batch_data2[batch_data2['herd']==herd]\n",
    "    \n",
    "    \n",
    "#     if (len(train.group_class.unique())==3):\n",
    "#         pass\n",
    "#     else:\n",
    "    X_train = train.filter(regex=(\"x.*\"))\n",
    "    X_train = X_train[feat_to_keep]\n",
    "\n",
    "    X_test = test.filter(regex=(\"x.*\"))\n",
    "    X_test = X_test[feat_to_keep]\n",
    "\n",
    "    y_train = train['group_class']\n",
    "    y_test = test['group_class']\n",
    "\n",
    "\n",
    "\n",
    "    # Standardize X data\n",
    "    scaler = preprocessing.StandardScaler().fit(X_train)\n",
    "\n",
    "    scaler.mean_\n",
    "\n",
    "\n",
    "    scaler.scale_\n",
    "\n",
    "\n",
    "    X_train_scaled = scaler.transform(X_train)\n",
    "    X_test_scaled = scaler.transform(X_test)\n",
    "\n",
    "    clf = getClassifier(3,c_val = 1,gamma_val = 1)\n",
    "    clf.fit(X_train_scaled, y_train)\n",
    "\n",
    "\n",
    "    y_test_predict = clf.predict(X_test_scaled)\n",
    "\n",
    "    class_report = classification_report(y_test,y_test_predict, output_dict=True,zero_division=1)\n",
    "\n",
    "    herd_scores[herd] = class_report\n",
    "        \n",
    "\n",
    "    "
   ]
  },
  {
   "cell_type": "code",
   "execution_count": 19,
   "metadata": {},
   "outputs": [],
   "source": [
    "# Pull Chronic Precision and Accuracy into list\n",
    "herd_list = []\n",
    "herd_num_chronic = []\n",
    "herd_num_non_chronic = []\n",
    "herd_precision = []\n",
    "herd_recall = []\n",
    "herd_accuracy = []\n",
    "\n",
    "for key in herd_scores:\n",
    "    herd_list.append(key)\n",
    "    herd_num_non_chronic.append(herd_scores[key]['not_chronic']['support'])\n",
    "    if 'chronic' in herd_scores[key]:\n",
    "        herd_num_chronic.append(herd_scores[key]['chronic']['support'])\n",
    "        herd_precision.append(herd_scores[key]['chronic']['precision'])\n",
    "        herd_recall.append(herd_scores[key]['chronic']['recall'])\n",
    "        herd_accuracy.append(herd_scores[key]['accuracy'])\n",
    "    else:\n",
    "        herd_num_chronic.append(0)\n",
    "        herd_precision.append('no_chronics')\n",
    "        herd_recall.append('no_chronics')\n",
    "        herd_accuracy.append(herd_scores[key]['accuracy'])\n",
    "\n",
    "herd_scores_df = pd.DataFrame({\n",
    "    'herd':herd_list,\n",
    "    'num_chronic':herd_num_chronic,\n",
    "    'num_not_chronic':herd_num_non_chronic,\n",
    "    'precision':herd_precision,\n",
    "    'recall':herd_recall,\n",
    "    'overall_accuracy':herd_accuracy\n",
    "})\n",
    "\n",
    "herd_scores_df.to_csv(\"../../data/datasets/by_herd_scores.csv\")\n"
   ]
  },
  {
   "cell_type": "code",
   "execution_count": 24,
   "metadata": {},
   "outputs": [
    {
     "data": {
      "text/html": [
       "<div>\n",
       "<style scoped>\n",
       "    .dataframe tbody tr th:only-of-type {\n",
       "        vertical-align: middle;\n",
       "    }\n",
       "\n",
       "    .dataframe tbody tr th {\n",
       "        vertical-align: top;\n",
       "    }\n",
       "\n",
       "    .dataframe thead th {\n",
       "        text-align: right;\n",
       "    }\n",
       "</style>\n",
       "<table border=\"1\" class=\"dataframe\">\n",
       "  <thead>\n",
       "    <tr style=\"text-align: right;\">\n",
       "      <th></th>\n",
       "      <th>herd</th>\n",
       "      <th>num_chronic</th>\n",
       "      <th>num_not_chronic</th>\n",
       "      <th>precision</th>\n",
       "      <th>recall</th>\n",
       "      <th>overall_accuracy</th>\n",
       "    </tr>\n",
       "  </thead>\n",
       "  <tbody>\n",
       "    <tr>\n",
       "      <th>0</th>\n",
       "      <td>Badlands</td>\n",
       "      <td>0</td>\n",
       "      <td>10</td>\n",
       "      <td>0</td>\n",
       "      <td>1</td>\n",
       "      <td>0.900000</td>\n",
       "    </tr>\n",
       "    <tr>\n",
       "      <th>1</th>\n",
       "      <td>Asotin</td>\n",
       "      <td>0</td>\n",
       "      <td>21</td>\n",
       "      <td>0</td>\n",
       "      <td>1</td>\n",
       "      <td>0.952381</td>\n",
       "    </tr>\n",
       "    <tr>\n",
       "      <th>2</th>\n",
       "      <td>Lostine</td>\n",
       "      <td>30</td>\n",
       "      <td>28</td>\n",
       "      <td>1</td>\n",
       "      <td>0.266667</td>\n",
       "      <td>0.620690</td>\n",
       "    </tr>\n",
       "    <tr>\n",
       "      <th>3</th>\n",
       "      <td>BlackButte</td>\n",
       "      <td>0</td>\n",
       "      <td>16</td>\n",
       "      <td>0</td>\n",
       "      <td>1</td>\n",
       "      <td>0.375000</td>\n",
       "    </tr>\n",
       "    <tr>\n",
       "      <th>4</th>\n",
       "      <td>Lookout Mtn</td>\n",
       "      <td>0</td>\n",
       "      <td>4</td>\n",
       "      <td>no_chronics</td>\n",
       "      <td>no_chronics</td>\n",
       "      <td>1.000000</td>\n",
       "    </tr>\n",
       "    <tr>\n",
       "      <th>5</th>\n",
       "      <td>Tucannon</td>\n",
       "      <td>0</td>\n",
       "      <td>1</td>\n",
       "      <td>no_chronics</td>\n",
       "      <td>no_chronics</td>\n",
       "      <td>1.000000</td>\n",
       "    </tr>\n",
       "    <tr>\n",
       "      <th>6</th>\n",
       "      <td>Snowstorms</td>\n",
       "      <td>17</td>\n",
       "      <td>11</td>\n",
       "      <td>0.818182</td>\n",
       "      <td>0.529412</td>\n",
       "      <td>0.642857</td>\n",
       "    </tr>\n",
       "    <tr>\n",
       "      <th>7</th>\n",
       "      <td>Redbird</td>\n",
       "      <td>0</td>\n",
       "      <td>8</td>\n",
       "      <td>0</td>\n",
       "      <td>1</td>\n",
       "      <td>0.875000</td>\n",
       "    </tr>\n",
       "    <tr>\n",
       "      <th>8</th>\n",
       "      <td>Clemans</td>\n",
       "      <td>0</td>\n",
       "      <td>8</td>\n",
       "      <td>no_chronics</td>\n",
       "      <td>no_chronics</td>\n",
       "      <td>1.000000</td>\n",
       "    </tr>\n",
       "    <tr>\n",
       "      <th>9</th>\n",
       "      <td>Custer State Park</td>\n",
       "      <td>3</td>\n",
       "      <td>11</td>\n",
       "      <td>0</td>\n",
       "      <td>0</td>\n",
       "      <td>0.714286</td>\n",
       "    </tr>\n",
       "    <tr>\n",
       "      <th>10</th>\n",
       "      <td>WSU - Captive</td>\n",
       "      <td>1</td>\n",
       "      <td>9</td>\n",
       "      <td>0.142857</td>\n",
       "      <td>1</td>\n",
       "      <td>0.400000</td>\n",
       "    </tr>\n",
       "  </tbody>\n",
       "</table>\n",
       "</div>"
      ],
      "text/plain": [
       "                 herd  num_chronic  num_not_chronic    precision       recall  \\\n",
       "0            Badlands            0               10            0            1   \n",
       "1              Asotin            0               21            0            1   \n",
       "2             Lostine           30               28            1     0.266667   \n",
       "3          BlackButte            0               16            0            1   \n",
       "4         Lookout Mtn            0                4  no_chronics  no_chronics   \n",
       "5            Tucannon            0                1  no_chronics  no_chronics   \n",
       "6          Snowstorms           17               11     0.818182     0.529412   \n",
       "7             Redbird            0                8            0            1   \n",
       "8             Clemans            0                8  no_chronics  no_chronics   \n",
       "9   Custer State Park            3               11            0            0   \n",
       "10      WSU - Captive            1                9     0.142857            1   \n",
       "\n",
       "    overall_accuracy  \n",
       "0           0.900000  \n",
       "1           0.952381  \n",
       "2           0.620690  \n",
       "3           0.375000  \n",
       "4           1.000000  \n",
       "5           1.000000  \n",
       "6           0.642857  \n",
       "7           0.875000  \n",
       "8           1.000000  \n",
       "9           0.714286  \n",
       "10          0.400000  "
      ]
     },
     "execution_count": 24,
     "metadata": {},
     "output_type": "execute_result"
    }
   ],
   "source": [
    "herd_scores_df"
   ]
  },
  {
   "cell_type": "code",
   "execution_count": 22,
   "metadata": {},
   "outputs": [
    {
     "data": {
      "image/png": "[encoded data removed]",
      "text/plain": [
       "<Figure size 432x288 with 1 Axes>"
      ]
     },
     "metadata": {
      "needs_background": "light"
     },
     "output_type": "display_data"
    }
   ],
   "source": [
    "plt.xlabel(\"herd\")\n",
    "plt.ylabel(\"precision\")\n",
    "plt.title(\"Chronic Sheep SVM Scoring by Herd\")\n",
    "\n",
    "plt.plot(herd_list,herd_precision,label=\"Precision\")\n",
    "plt.plot(herd_list,herd_recall,label = \"Recall\")\n",
    "plt.plot(herd_list,herd_accuracy,label = \"Accuracy\")\n",
    "plt.legend(loc=\"upper left\")\n",
    "plt.xticks(rotation=-90)\n",
    "plt.legend()\n",
    "plt.show()"
   ]
  },
  {
   "cell_type": "markdown",
   "metadata": {},
   "source": [
    "### Train On Over Sampled Data"
   ]
  },
  {
   "cell_type": "code",
   "execution_count": 71,
   "metadata": {},
   "outputs": [
    {
     "data": {
      "text/plain": [
       "pandas.core.frame.DataFrame"
      ]
     },
     "execution_count": 71,
     "metadata": {},
     "output_type": "execute_result"
    }
   ],
   "source": [
    "type(X_test_scaled)"
   ]
  },
  {
   "cell_type": "code",
   "execution_count": 78,
   "metadata": {},
   "outputs": [
    {
     "data": {
      "text/plain": [
       "array([[ 7,  1],\n",
       "       [ 4, 24]], dtype=int64)"
      ]
     },
     "execution_count": 78,
     "metadata": {},
     "output_type": "execute_result"
    }
   ],
   "source": [
    "clf1 = getClassifier(3,c_val = 1,gamma_val = 1)\n",
    "#clf = getClassifier(0,c_val = 1,gamma_val = .1)\n",
    "\n",
    "clf1.fit(X_train_scaled_oversample.iloc[:, : 25], y_train_oversample)\n",
    "\n",
    "\n",
    "y_val_predict = clf1.predict(X_val_scaled.iloc[:, : 25])\n",
    "y_test_predict = clf1.predict(X_test_scaled.iloc[:, : 25])\n",
    "\n",
    "classification_report(y_test,y_test_predict, output_dict=True)\n",
    "\n",
    "confusion_matrix(y_test,y_test_predict)"
   ]
  },
  {
   "cell_type": "code",
   "execution_count": 79,
   "metadata": {},
   "outputs": [],
   "source": [
    "# Export Actuals and Classifications\n",
    "oversample_test_df = pd.DataFrame({\n",
    "    \"actual\":y_test,\n",
    "    \"svm_prediction\":y_test_predict,\n",
    "    \"herd\":X_test_herds['herdx']\n",
    "})\n",
    "\n",
    "oversample_test_df.to_csv(\"../../data/datasets/svm_predictions.csv\",index=False)"
   ]
  }
 ],
 "metadata": {
  "kernelspec": {
   "display_name": "Python 3",
   "language": "python",
   "name": "python3"
  },
  "language_info": {
   "codemirror_mode": {
    "name": "ipython",
    "version": 3
   },
   "file_extension": ".py",
   "mimetype": "text/x-python",
   "name": "python",
   "nbconvert_exporter": "python",
   "pygments_lexer": "ipython3",
   "version": "3.8.3"
  }
 },
 "nbformat": 4,
 "nbformat_minor": 4
}
