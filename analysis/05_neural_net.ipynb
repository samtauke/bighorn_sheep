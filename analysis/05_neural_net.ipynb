{
 "cells": [
  {
   "cell_type": "code",
   "execution_count": 2,
   "metadata": {},
   "outputs": [],
   "source": [
    "import tensorflow as tf\n",
    "import pandas as pd\n",
    "import numpy as np\n",
    "from matplotlib import pyplot\n",
    "import matplotlib.pyplot as plt\n",
    "from sklearn.ensemble import RandomForestClassifier\n",
    "from sklearn.model_selection import train_test_split\n",
    "from sklearn.metrics import confusion_matrix\n",
    "from sklearn.metrics import plot_confusion_matrix\n",
    "from sklearn.preprocessing import OneHotEncoder\n",
    "from sklearn import svm\n",
    "from sklearn import preprocessing\n",
    "from sklearn.metrics import classification_report\n",
    "from sklearn.model_selection import GridSearchCV\n",
    "from imblearn.over_sampling import SMOTE\n",
    "import seaborn as sns"
   ]
  },
  {
   "cell_type": "code",
   "execution_count": 7,
   "metadata": {},
   "outputs": [],
   "source": [
    "batch_data = pd.read_csv(\"../../data/datasets/batch_meta_combine.csv\")\n",
    "\n",
    "X_train_scaled = pd.read_csv(\"../../data/datasets/X_train_scaled.csv\",header=None)\n",
    "X_train_scaled_oversample = pd.read_csv(\"../../data/datasets/X_train_scaled_oversample.csv\",header=None)\n",
    "X_val_scaled = pd.read_csv(\"../../data/datasets/X_val_scaled.csv\",header=None)\n",
    "X_test_scaled = pd.read_csv(\"../../data/datasets/X_test_scaled.csv\",header=None)\n",
    "\n",
    "X_test_herds = pd.read_csv(\"../../data/datasets/X_test_herds.csv\")\n",
    "\n",
    "\n",
    "\n",
    "\n",
    "y_train = pd.read_csv(\"../../data/datasets/y_train.csv\")\n",
    "y_train= y_train.replace(\"not_chronic\",0)\n",
    "y_train= y_train.replace(\"chronic\",1)\n",
    "y_train = pd.Series(list(y_train['group_class']))\n",
    "\n",
    "y_train_oversample = pd.read_csv(\"../../data/datasets/y_train_oversample.csv\")\n",
    "y_train_oversample= y_train_oversample.replace(\"not_chronic\",0)\n",
    "y_train_oversample= y_train_oversample.replace(\"chronic\",1)\n",
    "y_train_oversample = pd.Series(list(y_train_oversample['group_class']))\n",
    "\n",
    "\n",
    "y_val = pd.read_csv(\"../../data/datasets/y_val.csv\")\n",
    "y_val= y_val.replace(\"not_chronic\",0)\n",
    "y_val= y_val.replace(\"chronic\",1)\n",
    "y_val = pd.Series(list(y_val['group_class']))\n",
    "\n",
    "y_test = pd.read_csv(\"../../data/datasets/y_test.csv\")\n",
    "y_test= y_test.replace(\"not_chronic\",0)\n",
    "y_test= y_test.replace(\"chronic\",1)\n",
    "y_test = pd.Series(list(y_test['group_class']))\n",
    "\n",
    "\n",
    "num_features = 1600\n",
    "\n",
    "# Subset X Data to top features\n",
    "X_train_scaled = X_train_scaled.iloc[:, : num_features].values\n",
    "X_train_scaled_oversample = X_train_scaled_oversample.iloc[:, : num_features].values\n",
    "X_val_scaled = X_val_scaled.iloc[:, : num_features].values\n",
    "X_test_scaled = X_test_scaled.iloc[:, : num_features].values\n"
   ]
  },
  {
   "cell_type": "code",
   "execution_count": 41,
   "metadata": {},
   "outputs": [],
   "source": [
    "model = tf.keras.models.Sequential([\n",
    "  #tf.keras.layers.Flatten(input_shape=(28, 28)),\n",
    "  tf.keras.layers.Dense(200, activation='relu'),\n",
    "  tf.keras.layers.Dense(25, activation='relu'),    \n",
    "   # tf.keras.layers.Conv2D(200),\n",
    "  tf.keras.layers.Dropout(0.2),\n",
    "  tf.keras.layers.Dense(2)\n",
    "])\n"
   ]
  },
  {
   "cell_type": "code",
   "execution_count": 42,
   "metadata": {},
   "outputs": [],
   "source": [
    "loss_fn = tf.keras.losses.SparseCategoricalCrossentropy(from_logits=True)"
   ]
  },
  {
   "cell_type": "code",
   "execution_count": 43,
   "metadata": {},
   "outputs": [],
   "source": [
    "model.compile(optimizer='adam',\n",
    "              loss=loss_fn,\n",
    "              metrics=['accuracy'])"
   ]
  },
  {
   "cell_type": "code",
   "execution_count": 44,
   "metadata": {},
   "outputs": [
    {
     "name": "stdout",
     "output_type": "stream",
     "text": [
      "Epoch 1/20\n",
      "5/5 [==============================] - 0s 2ms/step - loss: 0.7405 - accuracy: 0.5820\n",
      "Epoch 2/20\n",
      "5/5 [==============================] - 0s 3ms/step - loss: 0.4307 - accuracy: 0.7754\n",
      "Epoch 3/20\n",
      "5/5 [==============================] - 0s 2ms/step - loss: 0.2801 - accuracy: 0.8845\n",
      "Epoch 4/20\n",
      "5/5 [==============================] - 0s 2ms/step - loss: 0.2169 - accuracy: 0.9225\n",
      "Epoch 5/20\n",
      "5/5 [==============================] - 0s 2ms/step - loss: 0.1666 - accuracy: 0.9347\n",
      "Epoch 6/20\n",
      "5/5 [==============================] - 0s 2ms/step - loss: 0.1578 - accuracy: 0.9504\n",
      "Epoch 7/20\n",
      "5/5 [==============================] - 0s 2ms/step - loss: 0.1094 - accuracy: 0.9634\n",
      "Epoch 8/20\n",
      "5/5 [==============================] - 0s 3ms/step - loss: 0.1197 - accuracy: 0.9330\n",
      "Epoch 9/20\n",
      "5/5 [==============================] - 0s 2ms/step - loss: 0.0699 - accuracy: 0.9773\n",
      "Epoch 10/20\n",
      "5/5 [==============================] - 0s 2ms/step - loss: 0.0866 - accuracy: 0.9769\n",
      "Epoch 11/20\n",
      "5/5 [==============================] - 0s 2ms/step - loss: 0.0815 - accuracy: 0.9530\n",
      "Epoch 12/20\n",
      "5/5 [==============================] - 0s 2ms/step - loss: 0.0805 - accuracy: 0.9604\n",
      "Epoch 13/20\n",
      "5/5 [==============================] - 0s 3ms/step - loss: 0.0536 - accuracy: 0.9856\n",
      "Epoch 14/20\n",
      "5/5 [==============================] - 0s 3ms/step - loss: 0.0528 - accuracy: 0.9900\n",
      "Epoch 15/20\n",
      "5/5 [==============================] - 0s 3ms/step - loss: 0.0524 - accuracy: 0.9769\n",
      "Epoch 16/20\n",
      "5/5 [==============================] - 0s 3ms/step - loss: 0.0555 - accuracy: 0.9765\n",
      "Epoch 17/20\n",
      "5/5 [==============================] - 0s 2ms/step - loss: 0.0260 - accuracy: 1.0000\n",
      "Epoch 18/20\n",
      "5/5 [==============================] - 0s 2ms/step - loss: 0.0292 - accuracy: 0.9922\n",
      "Epoch 19/20\n",
      "5/5 [==============================] - 0s 2ms/step - loss: 0.0170 - accuracy: 0.9948\n",
      "Epoch 20/20\n",
      "5/5 [==============================] - 0s 2ms/step - loss: 0.0199 - accuracy: 1.0000\n"
     ]
    },
    {
     "data": {
      "text/plain": [
       "<tensorflow.python.keras.callbacks.History at 0x11addb53430>"
      ]
     },
     "execution_count": 44,
     "metadata": {},
     "output_type": "execute_result"
    }
   ],
   "source": [
    "#model.fit(X_train_scaled_oversample, y_train_oversample, epochs=20)\n",
    "model.fit(X_train_scaled_oversample, y_train_oversample, epochs=20)"
   ]
  },
  {
   "cell_type": "code",
   "execution_count": 45,
   "metadata": {},
   "outputs": [
    {
     "name": "stdout",
     "output_type": "stream",
     "text": [
      "WARNING:tensorflow:5 out of the last 9 calls to <function Model.make_test_function.<locals>.test_function at 0x0000011ADF1D54C0> triggered tf.function retracing. Tracing is expensive and the excessive number of tracings could be due to (1) creating @tf.function repeatedly in a loop, (2) passing tensors with different shapes, (3) passing Python objects instead of tensors. For (1), please define your @tf.function outside of the loop. For (2), @tf.function has experimental_relax_shapes=True option that relaxes argument shapes that can avoid unnecessary retracing. For (3), please refer to https://www.tensorflow.org/guide/function#controlling_retracing and https://www.tensorflow.org/api_docs/python/tf/function for  more details.\n",
      "2/2 - 0s - loss: 0.6727 - accuracy: 0.8056\n"
     ]
    },
    {
     "data": {
      "text/plain": [
       "[0.6726827025413513, 0.8055555820465088]"
      ]
     },
     "execution_count": 45,
     "metadata": {},
     "output_type": "execute_result"
    }
   ],
   "source": [
    "model.evaluate(X_test_scaled,  y_test, verbose=2)"
   ]
  },
  {
   "cell_type": "code",
   "execution_count": 46,
   "metadata": {},
   "outputs": [
    {
     "name": "stdout",
     "output_type": "stream",
     "text": [
      "WARNING:tensorflow:6 out of the last 11 calls to <function Model.make_predict_function.<locals>.predict_function at 0x0000011ADF2DA3A0> triggered tf.function retracing. Tracing is expensive and the excessive number of tracings could be due to (1) creating @tf.function repeatedly in a loop, (2) passing tensors with different shapes, (3) passing Python objects instead of tensors. For (1), please define your @tf.function outside of the loop. For (2), @tf.function has experimental_relax_shapes=True option that relaxes argument shapes that can avoid unnecessary retracing. For (3), please refer to https://www.tensorflow.org/guide/function#controlling_retracing and https://www.tensorflow.org/api_docs/python/tf/function for  more details.\n"
     ]
    },
    {
     "data": {
      "text/plain": [
       "array([[19,  4],\n",
       "       [ 7,  6]], dtype=int64)"
      ]
     },
     "execution_count": 46,
     "metadata": {},
     "output_type": "execute_result"
    }
   ],
   "source": [
    "probability_model = tf.keras.Sequential([\n",
    "  model,\n",
    "  tf.keras.layers.Softmax()\n",
    "])\n",
    "\n",
    "predictions = probability_model.predict(X_val_scaled)\n",
    "\n",
    "y_pred = list()\n",
    "\n",
    "for pred in predictions:\n",
    "    y_pred.append(np.argmax(pred))\n",
    "\n",
    "cf_matrix  = confusion_matrix(y_val, y_pred, labels=[0, 1])\n",
    "cf_matrix"
   ]
  },
  {
   "cell_type": "code",
   "execution_count": 47,
   "metadata": {},
   "outputs": [
    {
     "name": "stdout",
     "output_type": "stream",
     "text": [
      "WARNING:tensorflow:6 out of the last 11 calls to <function Model.make_predict_function.<locals>.predict_function at 0x0000011ADF3851F0> triggered tf.function retracing. Tracing is expensive and the excessive number of tracings could be due to (1) creating @tf.function repeatedly in a loop, (2) passing tensors with different shapes, (3) passing Python objects instead of tensors. For (1), please define your @tf.function outside of the loop. For (2), @tf.function has experimental_relax_shapes=True option that relaxes argument shapes that can avoid unnecessary retracing. For (3), please refer to https://www.tensorflow.org/guide/function#controlling_retracing and https://www.tensorflow.org/api_docs/python/tf/function for  more details.\n"
     ]
    }
   ],
   "source": [
    "probability_model = tf.keras.Sequential([\n",
    "  model,\n",
    "  tf.keras.layers.Softmax()\n",
    "])\n",
    "\n",
    "predictions = probability_model.predict(X_test_scaled)\n",
    "\n",
    "y_pred = list()\n",
    "\n",
    "for pred in predictions:\n",
    "    y_pred.append(np.argmax(pred))\n",
    "\n",
    "cf_matrix  = confusion_matrix(y_test, y_pred, labels=[0, 1])\n"
   ]
  },
  {
   "cell_type": "code",
   "execution_count": 48,
   "metadata": {},
   "outputs": [
    {
     "data": {
      "text/plain": [
       "<matplotlib.axes._subplots.AxesSubplot at 0x11adf3ae4f0>"
      ]
     },
     "execution_count": 48,
     "metadata": {},
     "output_type": "execute_result"
    },
    {
     "data": {
      "image/png": "[encoded data removed]",
      "text/plain": [
       "<Figure size 432x288 with 2 Axes>"
      ]
     },
     "metadata": {
      "needs_background": "light"
     },
     "output_type": "display_data"
    }
   ],
   "source": [
    "\n",
    "sns.heatmap(cf_matrix, annot=True, cmap='Blues')"
   ]
  },
  {
   "cell_type": "code",
   "execution_count": 10,
   "metadata": {},
   "outputs": [],
   "source": [
    "oversample_test_df = pd.DataFrame({\n",
    "    \"actual\":y_test,\n",
    "    \"nn_prediction\":y_pred,\n",
    "    \"herd\":X_test_herds['herdx']\n",
    "})\n",
    "\n",
    "oversample_test_df.to_csv(\"../../data/datasets/nn_predictions.csv\",index=False)"
   ]
  }
 ],
 "metadata": {
  "kernelspec": {
   "display_name": "Python 3",
   "language": "python",
   "name": "python3"
  },
  "language_info": {
   "codemirror_mode": {
    "name": "ipython",
    "version": 3
   },
   "file_extension": ".py",
   "mimetype": "text/x-python",
   "name": "python",
   "nbconvert_exporter": "python",
   "pygments_lexer": "ipython3",
   "version": "3.8.3"
  }
 },
 "nbformat": 4,
 "nbformat_minor": 4
}
